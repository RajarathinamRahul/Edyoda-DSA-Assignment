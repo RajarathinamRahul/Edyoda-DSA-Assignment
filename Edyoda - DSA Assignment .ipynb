{
 "cells": [
  {
   "cell_type": "code",
   "execution_count": 5,
   "id": "25ed0979",
   "metadata": {},
   "outputs": [
    {
     "name": "stdout",
     "output_type": "stream",
     "text": [
      "Enter the length of list:- 5\n",
      "Enter the element of list:- 1\n",
      "Enter the element of list:- 2\n",
      "Enter the element of list:- 3\n",
      "Enter the element of list:- 4\n",
      "Enter the element of list:- 5\n",
      "Enter the sum number:- 5\n",
      "[1, 4]\n",
      "[2, 3]\n"
     ]
    }
   ],
   "source": [
    "#Q1. Write a program to find all pairs of an integer array whose sum is equal to a given number?\n",
    "\n",
    "def integerPair(arr,given_no):\n",
    "    for i in range(len(arr)):\n",
    "        for j in range(i+1,len(arr)):\n",
    "            if(arr[i]+arr[j]==given_no and i!=j):\n",
    "                print([arr[i],arr[j]])\n",
    "\n",
    "arr=[]\n",
    "length=int(input(\"Enter the length of list:- \"))\n",
    "for i in range(length):\n",
    "    num=int(input(\"Enter the elements of list:- \"))\n",
    "    arr.append(num)\n",
    "given_no=int(input(\"Enter the sum/given number:- \"))\n",
    "integerPair(arr,given_no)"
   ]
  },
  {
   "cell_type": "code",
   "execution_count": 6,
   "id": "c8045163",
   "metadata": {},
   "outputs": [
    {
     "name": "stdout",
     "output_type": "stream",
     "text": [
      "Enter the length of list:- 5\n",
      "Enter the element of list:- 1\n",
      "Enter the element of list:- 2\n",
      "Enter the element of list:- 3\n",
      "Enter the element of list:- 4\n",
      "Enter the element of list:- 5\n",
      "[5, 4, 3, 2, 1]\n"
     ]
    }
   ],
   "source": [
    "#Q2. Write a program to reverse an array in place? In place means you cannot create a new array. You have to update the original array.\n",
    "\n",
    "def reverse_array(arr):\n",
    "    return arr[::-1]\n",
    "\n",
    "arr=[]\n",
    "length=int(input(\"Enter the length of list:- \"))\n",
    "for i in range(length):\n",
    "    num=int(input(\"Enter the elements of list:- \"))\n",
    "    arr.append(num)\n",
    "print(reverse_array(arr))"
   ]
  },
  {
   "cell_type": "code",
   "execution_count": 1,
   "id": "8cd20fbf",
   "metadata": {},
   "outputs": [
    {
     "name": "stdout",
     "output_type": "stream",
     "text": [
      "ENTER THE STRING 1 :- HOUSE\n",
      "ENTER THE STRING 2 :- OUSEH\n",
      "HOUSE is a rotated form of OUSEH\n"
     ]
    }
   ],
   "source": [
    "#Q3. Write a program to check if two strings are a rotation of each other?\n",
    "\n",
    "def areRotations(str1,str2):\n",
    "    temp = string1 + string1\n",
    "    \n",
    "    if(temp.count(str2)>0):\n",
    "        print(f\"{str1} is a rotated form of {str2}\")\n",
    "    else:\n",
    "        print(f\"{str1} is not a rotated form of {str2}\")\n",
    "        \n",
    "string1=input(\"ENTER THE STRING 1 :- \")\n",
    "string2=input(\"ENTER THE STRING 2 :- \")\n",
    "\n",
    "if(len(string1)==len(string2)):\n",
    "    areRotations(string1,string2)\n",
    "else:\n",
    "    print(f\"{string1} is not a rotated form of {string2}\")"
   ]
  },
  {
   "cell_type": "code",
   "execution_count": 3,
   "id": "e3a2a698",
   "metadata": {},
   "outputs": [
    {
     "name": "stdout",
     "output_type": "stream",
     "text": [
      "ENTER THE STRING:- application\n",
      "l\n"
     ]
    }
   ],
   "source": [
    "#Q4. Write a program to print the first non-repeated character from a string?\n",
    "\n",
    "def first_non_repeated_character(string):\n",
    "    for i in string:\n",
    "        if(string.count(i)==1):\n",
    "            return i\n",
    "\n",
    "string=input(\"ENTER THE STRING:- \")\n",
    "print(first_non_repeated_character(string))"
   ]
  },
  {
   "cell_type": "code",
   "execution_count": 5,
   "id": "97693834",
   "metadata": {},
   "outputs": [
    {
     "name": "stdout",
     "output_type": "stream",
     "text": [
      "Move disk 1 from source A to destination B\n",
      "Move disk 2 from source A to destination C\n",
      "Move disk 1 from source B to destination C\n",
      "Move disk 3 from source A to destination B\n",
      "Move disk 1 from source C to destination A\n",
      "Move disk 2 from source C to destination B\n",
      "Move disk 1 from source A to destination B\n"
     ]
    }
   ],
   "source": [
    "#Q5. Read about the Tower of Hanoi algorithm. Write a program to implement it.\n",
    "\n",
    "def TowerOfHanoi(n,source,destination,auxiliary):\n",
    "    if n==1:\n",
    "        print (\"Move disk 1 from source\",source,\"to destination\",destination)\n",
    "        return\n",
    "    TowerOfHanoi(n-1, source, auxiliary, destination)\n",
    "    print (\"Move disk\",n,\"from source\",source,\"to destination\",destination)\n",
    "    TowerOfHanoi(n-1, auxiliary, destination, source)\n",
    "          \n",
    "TowerOfHanoi(3,'A','B','C')"
   ]
  },
  {
   "cell_type": "code",
   "execution_count": 20,
   "id": "a66adba7",
   "metadata": {},
   "outputs": [
    {
     "name": "stdout",
     "output_type": "stream",
     "text": [
      "ENTER THE EXPRESSION:- ab+cd-*\n",
      "Prefix :  *+ab-cd\n"
     ]
    }
   ],
   "source": [
    "#Q6. Read about infix, prefix, and postfix expressions. Write a program to convert postfix to prefix expression.\n",
    "\n",
    "def postToPre(post_exp):\n",
    "    operators=[\"+\",\"-\",\"*\",\"/\"]\n",
    "    s = []\n",
    "    for i in range(len(post_exp)):\n",
    "        if (post_exp[i] in operators):\n",
    "            op1 = s[-1]\n",
    "            s.pop()\n",
    "            op2 = s[-1]\n",
    "            s.pop()\n",
    "            temp = post_exp[i] + op2 + op1\n",
    "            s.append(temp)\n",
    "    \n",
    "        else:\n",
    "            s.append(post_exp[i])\n",
    "            \n",
    "    ans = \"\"\n",
    "    for i in s:\n",
    "        ans += i\n",
    "    return ans\n",
    " \n",
    "\n",
    "post_exp = input(\"ENTER THE EXPRESSION:- \") #SAMPLE EXP ---> \"AB+CD-*\"\n",
    "print(\"Prefix : \", postToPre(post_exp))\n"
   ]
  },
  {
   "cell_type": "code",
   "execution_count": 21,
   "id": "e270d5cc",
   "metadata": {},
   "outputs": [
    {
     "name": "stdout",
     "output_type": "stream",
     "text": [
      "ENTER THE EXPRESSION:- *+AB-CD\n",
      "Infix :  ((A+B)*(C-D))\n"
     ]
    }
   ],
   "source": [
    "#Q7. Write a program to convert prefix expression to infix expression.\n",
    "\n",
    "def prefixToInfix(prefix):\n",
    "    operators=[\"+\",\"-\",\"*\",\"/\"]\n",
    "    s = []\n",
    "    i = len(prefix) - 1\n",
    "    while i >= 0:\n",
    "        if prefix[i] not in operators:\n",
    "            s.append(prefix[i])\n",
    "            i -= 1\n",
    "        else:\n",
    "            string = \"(\" + s.pop() + prefix[i] + s.pop() + \")\"\n",
    "            s.append(string)\n",
    "            i -= 1\n",
    "     \n",
    "    return s.pop()\n",
    "\n",
    "str = input(\"ENTER THE EXPRESSION:- \") #SAMPLE EXP ---> \"*+AB-CD\"\n",
    "print(\"Infix : \" , prefixToInfix(str))"
   ]
  },
  {
   "cell_type": "code",
   "execution_count": 26,
   "id": "8b7fed92",
   "metadata": {},
   "outputs": [
    {
     "name": "stdout",
     "output_type": "stream",
     "text": [
      "ENTER THE EXPRESSION:- {[([])]}\n",
      "Given expression is Balanced\n"
     ]
    }
   ],
   "source": [
    "#Q8. Write a program to check if all the brackets are closed in a given code snippet.\n",
    "\n",
    "def areBracketsBalanced(expr):\n",
    "    stack = []\n",
    "\n",
    "    for char in expr:\n",
    "        if char in [\"(\", \"{\", \"[\"]:\n",
    "            stack.append(char)\n",
    "        else:\n",
    "            if not stack:\n",
    "                return False\n",
    "            current_char = stack.pop()\n",
    "            if current_char == '(':\n",
    "                if char != \")\":\n",
    "                    return False\n",
    "            if current_char == '{':\n",
    "                if char != \"}\":\n",
    "                    return False\n",
    "            if current_char == '[':\n",
    "                if char != \"]\":\n",
    "                    return False\n",
    "\n",
    "    if stack:\n",
    "        return False\n",
    "    return True\n",
    " \n",
    "    \n",
    "expr = input(\"ENTER THE EXPRESSION:- \") #SAMPLE EXP ---> \"{()}[]\"\n",
    "\n",
    "if areBracketsBalanced(expr):\n",
    "    print(\"Given expression is Balanced\")\n",
    "else:\n",
    "    print(\"Given expression is Not Balanced\")"
   ]
  },
  {
   "cell_type": "code",
   "execution_count": 1,
   "id": "58653ce4",
   "metadata": {},
   "outputs": [
    {
     "name": "stdout",
     "output_type": "stream",
     "text": [
      "Original Stack\n",
      "55\n",
      "41\n",
      "32\n",
      "21\n",
      "23\n",
      "\n",
      "Stack after Reversing\n",
      "23\n",
      "21\n",
      "32\n",
      "41\n",
      "55\n",
      "Minimum value in Stack\n",
      "21\n"
     ]
    }
   ],
   "source": [
    "class Stack:\n",
    "    def __init__(self):\n",
    "        self.Elements = []\n",
    "        self.top = None\n",
    "    def push(self, value):\n",
    "        self.Elements.append(value)\n",
    "    def pop(self):\n",
    "        return self.Elements.pop()\n",
    "    def empty(self):\n",
    "        return self.Elements == []\n",
    "    def show(self):\n",
    "        for value in reversed(self.Elements):\n",
    "            print(value)\n",
    "    def getMin(self):\n",
    "        print(min(self.Elements))\n",
    "\n",
    "#--------------------------------------------------------------\n",
    "#Q9. Write a program to reverse a stack.\n",
    "#--------------------------------------------------------------\n",
    "def BottomInsert(s, value):\n",
    "    if s.empty(): \n",
    "        s.push(value)\n",
    "    else:\n",
    "        popped = s.pop()\n",
    "        BottomInsert(s, value)\n",
    "        s.push(popped)\n",
    "\n",
    "def Reverse(s):\n",
    "    if s.empty():\n",
    "        pass\n",
    "    else:\n",
    "        popped = s.pop()\n",
    "        Reverse(s)\n",
    "        BottomInsert(s, popped)\n",
    "  \n",
    "  \n",
    "stk = Stack()\n",
    " \n",
    "stk.push(23)\n",
    "stk.push(11)\n",
    "stk.push(32)\n",
    "stk.push(41)\n",
    "stk.push(55)\n",
    "  \n",
    "print(\"Original Stack\")\n",
    "stk.show()\n",
    "  \n",
    "print(\"\\nStack after Reversing\")\n",
    "Reverse(stk)\n",
    "stk.show()\n",
    "\n",
    "#--------------------------------------------------------------\n",
    "#Q10. Write a program to find the smallest number using a stack.\n",
    "#--------------------------------------------------------------\n",
    "\n",
    "print(\"Minimum value in Stack\")\n",
    "stk.getMin()"
   ]
  },
  {
   "cell_type": "code",
   "execution_count": null,
   "id": "fb7c7af3",
   "metadata": {},
   "outputs": [],
   "source": []
  },
  {
   "cell_type": "code",
   "execution_count": null,
   "id": "43863868",
   "metadata": {},
   "outputs": [],
   "source": []
  }
 ],
 "metadata": {
  "kernelspec": {
   "display_name": "Python 3.10.5 64-bit",
   "language": "python",
   "name": "python3"
  },
  "language_info": {
   "codemirror_mode": {
    "name": "ipython",
    "version": 3
   },
   "file_extension": ".py",
   "mimetype": "text/x-python",
   "name": "python",
   "nbconvert_exporter": "python",
   "pygments_lexer": "ipython3",
   "version": "3.10.5"
  },
  "vscode": {
   "interpreter": {
    "hash": "a9cff5a362bc38ef45d817ae74b1af54d6a076e3d773891282bce078b815ba34"
   }
  }
 },
 "nbformat": 4,
 "nbformat_minor": 5
}
